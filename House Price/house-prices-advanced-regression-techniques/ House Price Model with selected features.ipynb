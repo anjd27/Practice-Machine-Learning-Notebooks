{
 "cells": [
  {
   "cell_type": "markdown",
   "id": "e7590130",
   "metadata": {},
   "source": [
    "### 1. Import Library"
   ]
  },
  {
   "cell_type": "code",
   "execution_count": 1,
   "id": "a8744214",
   "metadata": {},
   "outputs": [],
   "source": [
    "import pandas as pd\n",
    "import numpy as np\n",
    "import seaborn as sns\n",
    "import matplotlib.pyplot as plt \n",
    "\n",
    "from sklearn import preprocessing\n",
    "from sklearn import metrics\n",
    "from sklearn.model_selection import train_test_split\n",
    "from xgboost import XGBRegressor\n",
    "from sklearn.ensemble import RandomForestRegressor\n",
    "from sklearn.metrics import mean_absolute_error\n",
    "from sklearn.metrics import mean_squared_error\n",
    "\n",
    "\n",
    "from mpl_toolkits.mplot3d import Axes3D\n",
    "\n",
    "import math\n",
    "import shap\n",
    "import os\n",
    "\n",
    "pd.set_option('display.max_columns', None)\n",
    "pd.set_option('display.max_rows', None)"
   ]
  },
  {
   "cell_type": "markdown",
   "id": "65cdbb7c",
   "metadata": {},
   "source": [
    "### 2. Load Dataset"
   ]
  },
  {
   "cell_type": "markdown",
   "id": "9f99c271",
   "metadata": {},
   "source": [
    "This dataset has been cleaned, with missing values imputed and categorical features being stripped and lowered"
   ]
  },
  {
   "cell_type": "code",
   "execution_count": 2,
   "id": "6aac210c",
   "metadata": {},
   "outputs": [],
   "source": [
    "df_model = pd.read_csv('df_model')"
   ]
  },
  {
   "cell_type": "markdown",
   "id": "b333eaaa",
   "metadata": {},
   "source": [
    "### 3. Data Pre-processing"
   ]
  },
  {
   "cell_type": "markdown",
   "id": "a37dd099",
   "metadata": {},
   "source": [
    "From the previous model we will use just the top features displayed in feature importance.\n",
    "\n",
    "These include: \n",
    "* OverallQual\n",
    "* GrLivArea\n",
    "* TotalBsmtSF\n",
    "* BsmtFinSF1\n",
    "* YearBuilt\n",
    "* YearRemodAdd\n",
    "* LotArea\n",
    "* OverallCond\n",
    "* GarageCars\n",
    "* BsmtQual_ex\n",
    "* 1stFirSF\n",
    "* Fireplaces\n",
    "* GarageArea\n",
    "* GarageFinish_unf\n",
    "* 2ndFirSF\n",
    "* KitchenQual_gd\n",
    "* KitchenQual_ex\n",
    "* BsmtQual_gd\n",
    "* OpenPorchSF\n",
    "* CentralAir_n"
   ]
  },
  {
   "cell_type": "markdown",
   "id": "459c3e54",
   "metadata": {},
   "source": [
    "Create a subset of the dataframe that has these columns within it"
   ]
  },
  {
   "cell_type": "code",
   "execution_count": 3,
   "id": "8a0fc001",
   "metadata": {},
   "outputs": [],
   "source": [
    "df_model_selected = df_model [['OverallQual' , 'GrLivArea', 'TotalBsmtSF', \n",
    "                               'BsmtFinSF1', 'YearBuilt', 'YearRemodAdd', 'LotArea',\n",
    "                               'OverallCond', 'GarageCars', 'BsmtQual_ex', '1stFlrSF',\n",
    "                               'Fireplaces', 'GarageArea', 'GarageFinish_unf', \n",
    "                               '2ndFlrSF', 'KitchenQual_gd', 'KitchenQual_ex',\n",
    "                               'BsmtQual_gd', 'OpenPorchSF', 'CentralAir_n',\n",
    "                              'SalePrice']]"
   ]
  },
  {
   "cell_type": "code",
   "execution_count": 4,
   "id": "4cc60b90",
   "metadata": {},
   "outputs": [
    {
     "data": {
      "text/html": [
       "<div>\n",
       "<style scoped>\n",
       "    .dataframe tbody tr th:only-of-type {\n",
       "        vertical-align: middle;\n",
       "    }\n",
       "\n",
       "    .dataframe tbody tr th {\n",
       "        vertical-align: top;\n",
       "    }\n",
       "\n",
       "    .dataframe thead th {\n",
       "        text-align: right;\n",
       "    }\n",
       "</style>\n",
       "<table border=\"1\" class=\"dataframe\">\n",
       "  <thead>\n",
       "    <tr style=\"text-align: right;\">\n",
       "      <th></th>\n",
       "      <th>OverallQual</th>\n",
       "      <th>GrLivArea</th>\n",
       "      <th>TotalBsmtSF</th>\n",
       "      <th>BsmtFinSF1</th>\n",
       "      <th>YearBuilt</th>\n",
       "      <th>YearRemodAdd</th>\n",
       "      <th>LotArea</th>\n",
       "      <th>OverallCond</th>\n",
       "      <th>GarageCars</th>\n",
       "      <th>BsmtQual_ex</th>\n",
       "      <th>1stFlrSF</th>\n",
       "      <th>Fireplaces</th>\n",
       "      <th>GarageArea</th>\n",
       "      <th>GarageFinish_unf</th>\n",
       "      <th>2ndFlrSF</th>\n",
       "      <th>KitchenQual_gd</th>\n",
       "      <th>KitchenQual_ex</th>\n",
       "      <th>BsmtQual_gd</th>\n",
       "      <th>OpenPorchSF</th>\n",
       "      <th>CentralAir_n</th>\n",
       "      <th>SalePrice</th>\n",
       "    </tr>\n",
       "  </thead>\n",
       "  <tbody>\n",
       "    <tr>\n",
       "      <th>0</th>\n",
       "      <td>7</td>\n",
       "      <td>1710</td>\n",
       "      <td>856</td>\n",
       "      <td>706</td>\n",
       "      <td>2003</td>\n",
       "      <td>2003</td>\n",
       "      <td>8450</td>\n",
       "      <td>5</td>\n",
       "      <td>2</td>\n",
       "      <td>0</td>\n",
       "      <td>856</td>\n",
       "      <td>0</td>\n",
       "      <td>548</td>\n",
       "      <td>0</td>\n",
       "      <td>854</td>\n",
       "      <td>1</td>\n",
       "      <td>0</td>\n",
       "      <td>1</td>\n",
       "      <td>61</td>\n",
       "      <td>0</td>\n",
       "      <td>208500</td>\n",
       "    </tr>\n",
       "    <tr>\n",
       "      <th>1</th>\n",
       "      <td>6</td>\n",
       "      <td>1262</td>\n",
       "      <td>1262</td>\n",
       "      <td>978</td>\n",
       "      <td>1976</td>\n",
       "      <td>1976</td>\n",
       "      <td>9600</td>\n",
       "      <td>8</td>\n",
       "      <td>2</td>\n",
       "      <td>0</td>\n",
       "      <td>1262</td>\n",
       "      <td>1</td>\n",
       "      <td>460</td>\n",
       "      <td>0</td>\n",
       "      <td>0</td>\n",
       "      <td>0</td>\n",
       "      <td>0</td>\n",
       "      <td>1</td>\n",
       "      <td>0</td>\n",
       "      <td>0</td>\n",
       "      <td>181500</td>\n",
       "    </tr>\n",
       "    <tr>\n",
       "      <th>2</th>\n",
       "      <td>7</td>\n",
       "      <td>1786</td>\n",
       "      <td>920</td>\n",
       "      <td>486</td>\n",
       "      <td>2001</td>\n",
       "      <td>2002</td>\n",
       "      <td>11250</td>\n",
       "      <td>5</td>\n",
       "      <td>2</td>\n",
       "      <td>0</td>\n",
       "      <td>920</td>\n",
       "      <td>1</td>\n",
       "      <td>608</td>\n",
       "      <td>0</td>\n",
       "      <td>866</td>\n",
       "      <td>1</td>\n",
       "      <td>0</td>\n",
       "      <td>1</td>\n",
       "      <td>42</td>\n",
       "      <td>0</td>\n",
       "      <td>223500</td>\n",
       "    </tr>\n",
       "    <tr>\n",
       "      <th>3</th>\n",
       "      <td>7</td>\n",
       "      <td>1717</td>\n",
       "      <td>756</td>\n",
       "      <td>216</td>\n",
       "      <td>1915</td>\n",
       "      <td>1970</td>\n",
       "      <td>9550</td>\n",
       "      <td>5</td>\n",
       "      <td>3</td>\n",
       "      <td>0</td>\n",
       "      <td>961</td>\n",
       "      <td>1</td>\n",
       "      <td>642</td>\n",
       "      <td>1</td>\n",
       "      <td>756</td>\n",
       "      <td>1</td>\n",
       "      <td>0</td>\n",
       "      <td>0</td>\n",
       "      <td>35</td>\n",
       "      <td>0</td>\n",
       "      <td>140000</td>\n",
       "    </tr>\n",
       "    <tr>\n",
       "      <th>4</th>\n",
       "      <td>8</td>\n",
       "      <td>2198</td>\n",
       "      <td>1145</td>\n",
       "      <td>655</td>\n",
       "      <td>2000</td>\n",
       "      <td>2000</td>\n",
       "      <td>14260</td>\n",
       "      <td>5</td>\n",
       "      <td>3</td>\n",
       "      <td>0</td>\n",
       "      <td>1145</td>\n",
       "      <td>1</td>\n",
       "      <td>836</td>\n",
       "      <td>0</td>\n",
       "      <td>1053</td>\n",
       "      <td>1</td>\n",
       "      <td>0</td>\n",
       "      <td>1</td>\n",
       "      <td>84</td>\n",
       "      <td>0</td>\n",
       "      <td>250000</td>\n",
       "    </tr>\n",
       "  </tbody>\n",
       "</table>\n",
       "</div>"
      ],
      "text/plain": [
       "   OverallQual  GrLivArea  TotalBsmtSF  BsmtFinSF1  YearBuilt  YearRemodAdd  \\\n",
       "0            7       1710          856         706       2003          2003   \n",
       "1            6       1262         1262         978       1976          1976   \n",
       "2            7       1786          920         486       2001          2002   \n",
       "3            7       1717          756         216       1915          1970   \n",
       "4            8       2198         1145         655       2000          2000   \n",
       "\n",
       "   LotArea  OverallCond  GarageCars  BsmtQual_ex  1stFlrSF  Fireplaces  \\\n",
       "0     8450            5           2            0       856           0   \n",
       "1     9600            8           2            0      1262           1   \n",
       "2    11250            5           2            0       920           1   \n",
       "3     9550            5           3            0       961           1   \n",
       "4    14260            5           3            0      1145           1   \n",
       "\n",
       "   GarageArea  GarageFinish_unf  2ndFlrSF  KitchenQual_gd  KitchenQual_ex  \\\n",
       "0         548                 0       854               1               0   \n",
       "1         460                 0         0               0               0   \n",
       "2         608                 0       866               1               0   \n",
       "3         642                 1       756               1               0   \n",
       "4         836                 0      1053               1               0   \n",
       "\n",
       "   BsmtQual_gd  OpenPorchSF  CentralAir_n  SalePrice  \n",
       "0            1           61             0     208500  \n",
       "1            1            0             0     181500  \n",
       "2            1           42             0     223500  \n",
       "3            0           35             0     140000  \n",
       "4            1           84             0     250000  "
      ]
     },
     "execution_count": 4,
     "metadata": {},
     "output_type": "execute_result"
    }
   ],
   "source": [
    "df_model_selected.head()"
   ]
  },
  {
   "cell_type": "markdown",
   "id": "1417a3f2",
   "metadata": {},
   "source": [
    "### 4. Model Preparation"
   ]
  },
  {
   "cell_type": "markdown",
   "id": "b004f1db",
   "metadata": {},
   "source": [
    "This involves:\n",
    "\n",
    "- one hot encoding of categorical feature"
   ]
  },
  {
   "cell_type": "markdown",
   "id": "0ceb4b12",
   "metadata": {},
   "source": [
    "This was not done in this case as all the features are numeric. \n",
    "\n",
    "In the next notebook we will apply normalisation and scaling"
   ]
  },
  {
   "cell_type": "markdown",
   "id": "230f1d01",
   "metadata": {},
   "source": [
    "### 5. Train Test Split"
   ]
  },
  {
   "cell_type": "code",
   "execution_count": 5,
   "id": "02629081",
   "metadata": {},
   "outputs": [],
   "source": [
    "feature_names = ['OverallQual' , 'GrLivArea', 'TotalBsmtSF', \n",
    "                 'BsmtFinSF1', 'YearBuilt', 'YearRemodAdd', 'LotArea',\n",
    "                 'OverallCond', 'GarageCars', 'BsmtQual_ex', '1stFlrSF',\n",
    "                 'Fireplaces', 'GarageArea', 'GarageFinish_unf', \n",
    "                 '2ndFlrSF', 'KitchenQual_gd', 'KitchenQual_ex',\n",
    "                 'BsmtQual_gd', 'OpenPorchSF', 'CentralAir_n']"
   ]
  },
  {
   "cell_type": "code",
   "execution_count": 6,
   "id": "4b4d3e3b",
   "metadata": {},
   "outputs": [],
   "source": [
    "X = df_model[feature_names]\n",
    "y = df_model[['SalePrice']]"
   ]
  },
  {
   "cell_type": "code",
   "execution_count": 7,
   "id": "4c43af06",
   "metadata": {},
   "outputs": [],
   "source": [
    "X_train, X_test, y_train, y_test = train_test_split(X, y, test_size=0.2,random_state=42)"
   ]
  },
  {
   "cell_type": "markdown",
   "id": "68d830e1",
   "metadata": {},
   "source": [
    "### 6. Model Build"
   ]
  },
  {
   "cell_type": "markdown",
   "id": "a5eb77f9",
   "metadata": {},
   "source": [
    "1. XGBoostRegressor\n",
    "2. RandomForestRegressor"
   ]
  },
  {
   "cell_type": "markdown",
   "id": "854097e3",
   "metadata": {},
   "source": [
    "##### XGBoostRegressor"
   ]
  },
  {
   "cell_type": "code",
   "execution_count": 8,
   "id": "f837588a",
   "metadata": {},
   "outputs": [],
   "source": [
    "my_model = XGBRegressor(n_estimators=1000, learning_rate=0.05)\n",
    "my_model.fit(X_train, y_train, eval_set=[(X_test, y_test)], verbose=False)\n",
    "predictions = my_model.predict(X_test, iteration_range=(0, 5))"
   ]
  },
  {
   "cell_type": "code",
   "execution_count": 9,
   "id": "b1cbf50a",
   "metadata": {
    "scrolled": true
   },
   "outputs": [
    {
     "name": "stdout",
     "output_type": "stream",
     "text": [
      "Mean Absolute Error : 139043.25897969285\n"
     ]
    }
   ],
   "source": [
    "print(\"Mean Absolute Error : \" + str(mean_absolute_error(predictions, y_test)))"
   ]
  },
  {
   "cell_type": "code",
   "execution_count": 10,
   "id": "014aeecf",
   "metadata": {},
   "outputs": [
    {
     "name": "stdout",
     "output_type": "stream",
     "text": [
      "Mean Squared Error : 157331.07238460737\n"
     ]
    }
   ],
   "source": [
    "print(\"Mean Squared Error : \" + str(mean_squared_error(y_test, predictions, squared=False)))"
   ]
  },
  {
   "cell_type": "code",
   "execution_count": 11,
   "id": "ef78ae9e",
   "metadata": {},
   "outputs": [],
   "source": [
    "MSE = mean_squared_error(y_test, predictions, squared=False)"
   ]
  },
  {
   "cell_type": "code",
   "execution_count": 12,
   "id": "90861e0b",
   "metadata": {},
   "outputs": [
    {
     "name": "stdout",
     "output_type": "stream",
     "text": [
      "Root Mean Square Error:\n",
      "396.6498107709209\n"
     ]
    }
   ],
   "source": [
    "rsme = math.sqrt(MSE)  \n",
    "print(\"Root Mean Square Error:\")  \n",
    "print(rsme)  "
   ]
  },
  {
   "cell_type": "markdown",
   "id": "98b1b08c",
   "metadata": {},
   "source": [
    "##### RandomForestRegressor"
   ]
  },
  {
   "cell_type": "code",
   "execution_count": 13,
   "id": "d094d8c3",
   "metadata": {},
   "outputs": [
    {
     "name": "stderr",
     "output_type": "stream",
     "text": [
      "A column-vector y was passed when a 1d array was expected. Please change the shape of y to (n_samples,), for example using ravel().\n"
     ]
    }
   ],
   "source": [
    "randforest  = RandomForestRegressor(random_state = 1)\n",
    "randforest.fit(X_train, y_train)\n",
    "pred =randforest.predict(X_test)"
   ]
  },
  {
   "cell_type": "code",
   "execution_count": 14,
   "id": "6cedb397",
   "metadata": {},
   "outputs": [
    {
     "name": "stdout",
     "output_type": "stream",
     "text": [
      "Mean Absolute Error : 17644.504731735156\n"
     ]
    }
   ],
   "source": [
    "print(\"Mean Absolute Error : \" + str(mean_absolute_error(pred, y_test)))"
   ]
  },
  {
   "cell_type": "code",
   "execution_count": 15,
   "id": "e83c3407",
   "metadata": {},
   "outputs": [
    {
     "name": "stdout",
     "output_type": "stream",
     "text": [
      "Mean Squared Error : 28484.815140125094\n"
     ]
    }
   ],
   "source": [
    "print(\"Mean Squared Error : \" + str(mean_squared_error(y_test, pred, squared=False)))"
   ]
  },
  {
   "cell_type": "code",
   "execution_count": 16,
   "id": "90536f42",
   "metadata": {},
   "outputs": [],
   "source": [
    "MSE = mean_squared_error(y_test, pred, squared=False)"
   ]
  },
  {
   "cell_type": "code",
   "execution_count": 17,
   "id": "d43e4dfb",
   "metadata": {},
   "outputs": [
    {
     "name": "stdout",
     "output_type": "stream",
     "text": [
      "Root Mean Square Error:\n",
      "168.77445049569883\n"
     ]
    }
   ],
   "source": [
    "rsme = math.sqrt(MSE)  \n",
    "print(\"Root Mean Square Error:\")  \n",
    "print(rsme)  "
   ]
  }
 ],
 "metadata": {
  "kernelspec": {
   "display_name": "Python 3 (ipykernel)",
   "language": "python",
   "name": "python3"
  },
  "language_info": {
   "codemirror_mode": {
    "name": "ipython",
    "version": 3
   },
   "file_extension": ".py",
   "mimetype": "text/x-python",
   "name": "python",
   "nbconvert_exporter": "python",
   "pygments_lexer": "ipython3",
   "version": "3.9.13"
  }
 },
 "nbformat": 4,
 "nbformat_minor": 5
}
